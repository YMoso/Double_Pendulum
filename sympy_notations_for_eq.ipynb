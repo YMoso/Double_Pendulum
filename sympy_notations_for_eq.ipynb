{
 "cells": [
  {
   "metadata": {},
   "cell_type": "markdown",
   "source": [
    "# Double Pendulum Dynamics\n",
    "\n",
    "In this notebook, we derive the equations of motion for a double pendulum via the Lagrangian formalism and then solve them numerically. Each section is annotated to clarify its purpose.\n"
   ],
   "id": "fffb18664ebd59f3"
  },
  {
   "metadata": {
    "ExecuteTime": {
     "end_time": "2025-06-06T20:07:20.823582Z",
     "start_time": "2025-06-06T20:07:20.813592Z"
    }
   },
   "cell_type": "code",
   "source": [
    "import numpy as np\n",
    "import sympy as smp\n",
    "from scipy.integrate import odeint\n",
    "import matplotlib.pyplot as plt\n",
    "\n",
    "from sympy import init_printing\n",
    "\n",
    "init_printing()"
   ],
   "id": "308d9eb39bc80e06",
   "outputs": [],
   "execution_count": 57
  },
  {
   "metadata": {},
   "cell_type": "markdown",
   "source": [
    "## 2. Symbol Definitions\n",
    "\n",
    "We declare all symbols required for the derivation:\n",
    "\n",
    "- $t$ represents time.\n",
    "- $g$ is the gravitational acceleration.\n",
    "- $m_{1}, m_{2}$ are the masses of the first and second bobs.\n",
    "- $L_{1}, L_{2}$ are the corresponding rod lengths.\n",
    "- $\\theta_{1}(t), \\theta_{2}(t)$ denote the angular displacements as functions of time.\n",
    "\n"
   ],
   "id": "e930b0a94d3e5c60"
  },
  {
   "metadata": {
    "ExecuteTime": {
     "end_time": "2025-06-06T20:07:20.854107Z",
     "start_time": "2025-06-06T20:07:20.844328Z"
    }
   },
   "cell_type": "code",
   "source": [
    "t, g = smp.symbols('t g')\n",
    "\n",
    "m1, m2 = smp.symbols('m1 m2')\n",
    "L1, L2 = smp.symbols('L1 L2')\n",
    "\n",
    "theta1_func, theta2_func = smp.symbols(r\"\\theta_1, \\theta_2\", cls=smp.Function)\n",
    "\n",
    "theta1 = theta1_func(t)\n",
    "theta2 = theta2_func(t)"
   ],
   "id": "58b8bb7e5c40288f",
   "outputs": [],
   "execution_count": 58
  },
  {
   "metadata": {},
   "cell_type": "markdown",
   "source": [
    "### 3. First and Second Derivatives\n",
    "\n",
    "Compute time derivatives of each angle:\n",
    "\n",
    "- $\\dot{\\theta}_{i} = \\frac{d\\theta_{i}}{dt}$\n",
    "- $\\ddot{\\theta}_{i} = \\frac{d^{2}\\theta_{i}}{dt^{2}}$\n"
   ],
   "id": "44e12a621a2470b4"
  },
  {
   "metadata": {
    "ExecuteTime": {
     "end_time": "2025-06-06T20:07:26.308345Z",
     "start_time": "2025-06-06T20:07:26.297084Z"
    }
   },
   "cell_type": "code",
   "source": [
    "theta1_d = smp.diff(theta1, t)  # dθ1/dt\n",
    "theta2_d = smp.diff(theta2, t)  # dθ2/dt\n",
    "theta1_dd = smp.diff(theta1_d, t)  # d²θ1/dt²\n",
    "theta2_dd = smp.diff(theta2_d, t)  # d²θ2/dt²"
   ],
   "id": "d9da966abdc06812",
   "outputs": [],
   "execution_count": 59
  },
  {
   "metadata": {},
   "cell_type": "markdown",
   "source": [
    "## 4. Cartesian Coordinates of Masses\n",
    "\n",
    "Express each bob’s position in Cartesian coordinates, using standard planar geometry:\n",
    "\n",
    "1. First bob (mass $m_{1}$):\n",
    "\n",
    "   $$\n",
    "   x_{1} = L_{1}\\,\\sin\\bigl(\\theta_{1}\\bigr),\n",
    "   \\quad\n",
    "   y_{1} = -\\,L_{1}\\,\\cos\\bigl(\\theta_{1}\\bigr)\n",
    "   $$\n",
    "\n",
    "2. Second bob (mass $m_{2}$), attached to the first:\n",
    "\n",
    "   $$\n",
    "   x_{2} = L_{1}\\,\\sin\\bigl(\\theta_{1}\\bigr) + L_{2}\\,\\sin\\bigl(\\theta_{2}\\bigr),\n",
    "   \\quad\n",
    "   y_{2} = -\\,L_{1}\\,\\cos\\bigl(\\theta_{1}\\bigr) - L_{2}\\,\\cos\\bigl(\\theta_{2}\\bigr)\n",
    "   $$\n"
   ],
   "id": "3968162d794ded9f"
  },
  {
   "metadata": {
    "ExecuteTime": {
     "end_time": "2025-06-06T20:07:27.836985Z",
     "start_time": "2025-06-06T20:07:27.825193Z"
    }
   },
   "cell_type": "code",
   "source": [
    "x1 = L1 * smp.sin(theta1)\n",
    "y1 = -L1 * smp.cos(theta1)\n",
    "\n",
    "x2 = L1 * smp.sin(theta1) + L2 * smp.sin(theta2)\n",
    "y2 = -L1 * smp.cos(theta1) - L2 * smp.cos(theta2)"
   ],
   "id": "25c9968a84745f29",
   "outputs": [],
   "execution_count": 60
  },
  {
   "metadata": {},
   "cell_type": "markdown",
   "source": [
    "## 5. Kinetic and Potential Energies\n",
    "\n",
    "- **Kinetic Energy** $T$:\n",
    "\n",
    "  $$\n",
    "  T = \\frac{1}{2}\\,m_{1}\\,\\bigl(\\dot{x}_{1}^{2} + \\dot{y}_{1}^{2}\\bigr)\n",
    "    + \\frac{1}{2}\\,m_{2}\\,\\bigl(\\dot{x}_{2}^{2} + \\dot{y}_{2}^{2}\\bigr)\n",
    "  $$\n",
    "\n",
    "- **Potential Energy** $V$:\n",
    "\n",
    "  $$\n",
    "  V = m_{1}\\,g\\,y_{1} + m_{2}\\,g\\,y_{2}\n",
    "  $$\n"
   ],
   "id": "4ac7ea93b8cae10c"
  },
  {
   "metadata": {
    "ExecuteTime": {
     "end_time": "2025-06-06T20:07:29.096439Z",
     "start_time": "2025-06-06T20:07:29.079743Z"
    }
   },
   "cell_type": "code",
   "source": [
    "x1_dot = smp.diff(x1, t)\n",
    "y1_dot = smp.diff(y1, t)\n",
    "x2_dot = smp.diff(x2, t)\n",
    "y2_dot = smp.diff(y2, t)\n",
    "\n",
    "T1 = (1 / 2) * m1 * (x1_dot ** 2 + y1_dot ** 2)\n",
    "T2 = (1 / 2) * m2 * (x2_dot ** 2 + y2_dot ** 2)\n",
    "T = T1 + T2\n",
    "\n",
    "V1 = m1 * g * y1\n",
    "V2 = m2 * g * y2\n",
    "V = V1 + V2"
   ],
   "id": "280c4929f710bb8d",
   "outputs": [],
   "execution_count": 61
  },
  {
   "metadata": {},
   "cell_type": "markdown",
   "source": [
    "## 6. Lagrangian Formulation\n",
    "\n",
    "The Lagrangian $\\mathcal{L}$ is defined as:\n",
    "\n",
    "$$\n",
    "\\mathcal{L} = T - V.\n",
    "$$\n",
    "\n",
    "We then derive the Euler–Lagrange equations for $\\theta_{1}$ and $\\theta_{2}$:\n",
    "\n",
    "$$\n",
    "\\frac{d}{dt}\\Bigl(\\frac{\\partial \\mathcal{L}}{\\partial \\dot{\\theta}_{i}}\\Bigr)\n",
    "- \\frac{\\partial \\mathcal{L}}{\\partial \\theta_{i}} = 0, \\quad i = 1,2.\n",
    "$$\n"
   ],
   "id": "8dd9995f5b535914"
  },
  {
   "metadata": {
    "ExecuteTime": {
     "end_time": "2025-06-06T20:07:31.972665Z",
     "start_time": "2025-06-06T20:07:30.190836Z"
    }
   },
   "cell_type": "code",
   "source": [
    "Lagrangian = T - V\n",
    "\n",
    "EL1 = smp.diff(Lagrangian, theta1) - smp.diff(smp.diff(Lagrangian, theta1_d), t)\n",
    "EL2 = smp.diff(Lagrangian, theta2) - smp.diff(smp.diff(Lagrangian, theta2_d), t)\n",
    "\n",
    "EL1_simpl = EL1.simplify()\n",
    "EL2_simpl = EL2.simplify()"
   ],
   "id": "783e594907c5909a",
   "outputs": [],
   "execution_count": 62
  },
  {
   "metadata": {},
   "cell_type": "markdown",
   "source": [
    "## 7. Solve for $\\ddot{\\theta}_{1}$ and $\\ddot{\\theta}_{2}$\n",
    "\n",
    "We solve the two Euler–Lagrange equations simultaneously for $\\ddot{\\theta}_{1}$ and $\\ddot{\\theta}_{2}$. This yields symbolic expressions for each angular acceleration in terms of the current state.\n"
   ],
   "id": "f828a4c3057ddce6"
  },
  {
   "metadata": {
    "ExecuteTime": {
     "end_time": "2025-06-06T20:07:33.807991Z",
     "start_time": "2025-06-06T20:07:33.338033Z"
    }
   },
   "cell_type": "code",
   "source": [
    "solutions = smp.solve([EL1_simpl, EL2_simpl], (theta1_dd, theta2_dd),\n",
    "                      simplify=False, rational=False)\n",
    "\n",
    "theta1_dd_expr = solutions[theta1_dd]\n",
    "theta2_dd_expr = solutions[theta2_dd]"
   ],
   "id": "52f7c6ea6d7a070a",
   "outputs": [],
   "execution_count": 63
  },
  {
   "metadata": {},
   "cell_type": "markdown",
   "source": [
    "## 8. Numerical Lambdification\n",
    "\n",
    "Convert the symbolic expressions into fast numerical functions using `lambdify`.\n",
    "\n",
    "These functions accept arguments:\n",
    "\n",
    "$$\n",
    "\\bigl(t,\\,g,\\,m_{1},\\,m_{2},\\,L_{1},\\,L_{2},\\,\\theta_{1},\\,\\theta_{2},\\,\\dot{\\theta}_{1},\\,\\dot{\\theta}_{2}\\bigr)\n",
    "$$\n",
    "\n",
    "and return the corresponding $\\ddot{\\theta}$.\n"
   ],
   "id": "fbbdbab8c105d5ad"
  },
  {
   "metadata": {
    "ExecuteTime": {
     "end_time": "2025-06-06T20:07:36.230812Z",
     "start_time": "2025-06-06T20:07:36.004562Z"
    }
   },
   "cell_type": "code",
   "source": [
    "dz1dt_func = smp.lambdify(\n",
    "    (t, g, m1, m2, L1, L2, theta1, theta2, theta1_d, theta2_d),\n",
    "    theta1_dd_expr,\n",
    "    'numpy'\n",
    ")\n",
    "\n",
    "dz2dt_func = smp.lambdify(\n",
    "    (t, g, m1, m2, L1, L2, theta1, theta2, theta1_d, theta2_d),\n",
    "    theta2_dd_expr,\n",
    "    'numpy'\n",
    ")\n",
    "\n",
    "dtheta1dt_func = smp.lambdify(theta1_d, theta1_d, 'numpy')\n",
    "dtheta2dt_func = smp.lambdify(theta2_d, theta2_d, 'numpy')"
   ],
   "id": "9c72c27d76f36871",
   "outputs": [],
   "execution_count": 64
  },
  {
   "metadata": {},
   "cell_type": "markdown",
   "source": [
    "## 9. State–Space System: $\\frac{dS}{dt}$\n",
    "\n",
    "We define the vector:\n",
    "\n",
    "$$\n",
    "S = \\bigl[\\theta_{1},\\,z_{1},\\,\\theta_{2},\\,z_{2}\\bigr], \\quad \\text{where } z_{i} = \\dot{\\theta}_{i}.\n",
    "$$\n",
    "\n",
    "The ODE system is:\n",
    "\n",
    "$$\n",
    "\\begin{cases}\n",
    "\\dot{\\theta}_{1} = z_{1},\\\\\n",
    "\\dot{z}_{1} = f_{1}\\bigl(t,\\,g,\\,m_{1},\\,m_{2},\\,L_{1},\\,L_{2},\\,\\theta_{1},\\,\\theta_{2},\\,z_{1},\\,z_{2}\\bigr),\\\\\n",
    "\\dot{\\theta}_{2} = z_{2},\\\\\n",
    "\\dot{z}_{2} = f_{2}\\bigl(t,\\,g,\\,m_{1},\\,m_{2},\\,L_{1},\\,L_{2},\\,\\theta_{1},\\,\\theta_{2},\\,z_{1},\\,z_{2}\\bigr).\n",
    "\\end{cases}\n",
    "$$\n"
   ],
   "id": "730e98b067a514b1"
  },
  {
   "metadata": {
    "ExecuteTime": {
     "end_time": "2025-06-06T20:07:38.154948Z",
     "start_time": "2025-06-06T20:07:38.144842Z"
    }
   },
   "cell_type": "code",
   "source": [
    "def dSdt(S, t, g, m1, m2, L1, L2):\n",
    "\n",
    "    theta1_val, z1_val, theta2_val, z2_val = S\n",
    "\n",
    "    return [\n",
    "        dtheta1dt_func(z1_val),\n",
    "        dz1dt_func(t, g, m1, m2, L1, L2, theta1_val, theta2_val, z1_val, z2_val),\n",
    "        dtheta2dt_func(z2_val),\n",
    "        dz2dt_func(t, g, m1, m2, L1, L2, theta1_val, theta2_val, z1_val, z2_val),\n",
    "    ]"
   ],
   "id": "42169070309e7d5f",
   "outputs": [],
   "execution_count": 65
  },
  {
   "metadata": {},
   "cell_type": "markdown",
   "source": [
    "## 10. Initial Conditions and Parameters\n",
    "\n",
    "Set numerical values for all parameters and specify an initial state:\n",
    "\n",
    "- $\\theta_{1}(0) = 1\\ \\mathrm{rad}, \\quad \\dot{\\theta}_{1}(0) = -3\\ \\mathrm{rad/s}$\n",
    "- $\\theta_{2}(0) = -1\\ \\mathrm{rad}, \\quad \\dot{\\theta}_{2}(0) = 5\\ \\mathrm{rad/s}$\n",
    "\n",
    "- $m_{1} = 2,\\ m_{2} = 1,\\ L_{1} = 2,\\ L_{2} = 1,\\ g = 9.81\\ \\mathrm{m/s^{2}}$.\n",
    "\n",
    "These values will be used when calling the numerical integrator.\n"
   ],
   "id": "5f0ba55bb63e22ef"
  },
  {
   "metadata": {
    "ExecuteTime": {
     "end_time": "2025-06-06T20:07:40.977167Z",
     "start_time": "2025-06-06T20:07:40.047223Z"
    }
   },
   "cell_type": "code",
   "source": [
    "t_vals = np.linspace(0, 40, 1001)\n",
    "\n",
    "g_val = 9.81\n",
    "m1_val = 2.0\n",
    "m2_val = 1.0\n",
    "L1_val = 2.0\n",
    "L2_val = 1.0\n",
    "\n",
    "initial_state = [1.0, -3.0, -1.0, 5.0]\n",
    "\n",
    "solution = odeint(\n",
    "    dSdt,\n",
    "    y0=initial_state,\n",
    "    t=t_vals,\n",
    "    args=(g_val, m1_val, m2_val, L1_val, L2_val)\n",
    ")"
   ],
   "id": "76262d9786d4cdfb",
   "outputs": [],
   "execution_count": 66
  },
  {
   "metadata": {},
   "cell_type": "markdown",
   "source": [
    "## 11. Extract Angles and Plot\n",
    "\n",
    "Finally, we extract $\\theta_{1}(t)$ and $\\theta_{2}(t)$ from the solution array and plot one of them as an example. You can similarly plot $\\theta_{1}$ or any other quantity of interest.\n"
   ],
   "id": "3f70f987e9c0c191"
  },
  {
   "metadata": {
    "ExecuteTime": {
     "end_time": "2025-06-06T20:07:46.077674Z",
     "start_time": "2025-06-06T20:07:45.535886Z"
    }
   },
   "cell_type": "code",
   "source": [
    "theta1_time_series = solution[:, 0]\n",
    "theta2_time_series = solution[:, 2]\n",
    "\n",
    "plt.figure(figsize=(8, 4))\n",
    "plt.plot(t_vals, theta2_time_series, label=r'$\\theta_2(t)$')\n",
    "plt.xlabel('Time (s)')\n",
    "plt.ylabel(r'$\\theta_2$ (rad)')\n",
    "plt.title('Angle of Second Bob over Time')\n",
    "plt.legend()\n",
    "plt.grid(True)\n",
    "plt.tight_layout()\n",
    "plt.show()\n"
   ],
   "id": "3a1845542dd52bcd",
   "outputs": [
    {
     "data": {
      "text/plain": [
       "<Figure size 800x400 with 1 Axes>"
      ],
      "image/png": "[encoded data removed]"
     },
     "metadata": {},
     "output_type": "display_data"
    }
   ],
   "execution_count": 67
  },
  {
   "metadata": {},
   "cell_type": "markdown",
   "source": "",
   "id": "677657f36ef24431"
  }
 ],
 "metadata": {
  "kernelspec": {
   "display_name": "Python 3",
   "language": "python",
   "name": "python3"
  },
  "language_info": {
   "codemirror_mode": {
    "name": "ipython",
    "version": 2
   },
   "file_extension": ".py",
   "mimetype": "text/x-python",
   "name": "python",
   "nbconvert_exporter": "python",
   "pygments_lexer": "ipython2",
   "version": "2.7.6"
  }
 },
 "nbformat": 4,
 "nbformat_minor": 5
}
